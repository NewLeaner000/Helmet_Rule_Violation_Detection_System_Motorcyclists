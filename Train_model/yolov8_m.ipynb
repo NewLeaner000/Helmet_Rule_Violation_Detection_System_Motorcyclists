{
 "cells": [
  {
   "cell_type": "code",
   "execution_count": 1,
   "metadata": {
    "execution": {
     "iopub.execute_input": "2024-10-20T01:52:09.612698Z",
     "iopub.status.busy": "2024-10-20T01:52:09.612356Z",
     "iopub.status.idle": "2024-10-20T01:52:09.633553Z",
     "shell.execute_reply": "2024-10-20T01:52:09.632679Z",
     "shell.execute_reply.started": "2024-10-20T01:52:09.612664Z"
    },
    "trusted": true
   },
   "outputs": [
    {
     "name": "stdout",
     "output_type": "stream",
     "text": [
      "['README.dataset.txt', 'README.roboflow.txt', 'data.yaml', 'valid', 'test', 'train']\n"
     ]
    }
   ],
   "source": [
    "import os\n",
    "\n",
    "# Path to the dataset\n",
    "dataset_path = '/kaggle/input/helmet-detection-v2'\n",
    "\n",
    "# List files in the dataset directory\n",
    "files = os.listdir(dataset_path)\n",
    "print(files)"
   ]
  },
  {
   "cell_type": "code",
   "execution_count": 2,
   "metadata": {
    "execution": {
     "iopub.execute_input": "2024-10-20T01:52:09.636436Z",
     "iopub.status.busy": "2024-10-20T01:52:09.636107Z",
     "iopub.status.idle": "2024-10-20T01:52:23.199930Z",
     "shell.execute_reply": "2024-10-20T01:52:23.198996Z",
     "shell.execute_reply.started": "2024-10-20T01:52:09.636405Z"
    },
    "trusted": true
   },
   "outputs": [
    {
     "name": "stdout",
     "output_type": "stream",
     "text": [
      "Requirement already satisfied: pyyaml in /opt/conda/lib/python3.10/site-packages (6.0.1)\n"
     ]
    }
   ],
   "source": [
    "!pip install pyyaml\n"
   ]
  },
  {
   "cell_type": "code",
   "execution_count": 3,
   "metadata": {
    "execution": {
     "iopub.execute_input": "2024-10-20T01:52:23.203065Z",
     "iopub.status.busy": "2024-10-20T01:52:23.202140Z",
     "iopub.status.idle": "2024-10-20T01:52:23.238138Z",
     "shell.execute_reply": "2024-10-20T01:52:23.237289Z",
     "shell.execute_reply.started": "2024-10-20T01:52:23.203024Z"
    },
    "trusted": true
   },
   "outputs": [
    {
     "name": "stdout",
     "output_type": "stream",
     "text": [
      "{'train': '../train/images', 'val': '../valid/images', 'test': '../test/images', 'nc': 4, 'names': ['helmet', 'licenseplate', 'motorcyclist', 'nohelmet'], 'roboflow': {'workspace': 'study-eivvg', 'project': 'helmet-detection-and-license-plate-recognition-zfenu-ctzln', 'version': 2, 'license': 'CC BY 4.0', 'url': 'https://universe.roboflow.com/study-eivvg/helmet-detection-and-license-plate-recognition-zfenu-ctzln/dataset/2'}}\n"
     ]
    }
   ],
   "source": [
    "import yaml\n",
    "\n",
    "# Path to the YAML file\n",
    "yaml_file_path = '/kaggle/input/helmet-detection-v2/data.yaml'\n",
    "\n",
    "# Load the YAML file\n",
    "with open(yaml_file_path, 'r') as file:\n",
    "    config = yaml.safe_load(file)\n",
    "\n",
    "# Display the current content of the YAML file\n",
    "print(config)\n"
   ]
  },
  {
   "cell_type": "code",
   "execution_count": 4,
   "metadata": {
    "execution": {
     "iopub.execute_input": "2024-10-20T01:53:03.338669Z",
     "iopub.status.busy": "2024-10-20T01:53:03.337806Z",
     "iopub.status.idle": "2024-10-20T01:53:03.343134Z",
     "shell.execute_reply": "2024-10-20T01:53:03.342092Z",
     "shell.execute_reply.started": "2024-10-20T01:53:03.338632Z"
    },
    "trusted": true
   },
   "outputs": [],
   "source": [
    "# Modify the paths in the YAML file\n",
    "config['train'] = '/kaggle/input/helmet-detection-v2/train'\n",
    "config['val'] = '/kaggle/input/helmet-detection-v2/valid'\n",
    "config['test'] = '/kaggle/input/helmet-detection-v2/test'"
   ]
  },
  {
   "cell_type": "code",
   "execution_count": 5,
   "metadata": {
    "execution": {
     "iopub.execute_input": "2024-10-20T01:53:08.867974Z",
     "iopub.status.busy": "2024-10-20T01:53:08.867299Z",
     "iopub.status.idle": "2024-10-20T01:53:08.875284Z",
     "shell.execute_reply": "2024-10-20T01:53:08.874368Z",
     "shell.execute_reply.started": "2024-10-20T01:53:08.867940Z"
    },
    "trusted": true
   },
   "outputs": [
    {
     "name": "stdout",
     "output_type": "stream",
     "text": [
      "Modified YAML file saved to /kaggle/working/modified_data.yaml\n"
     ]
    }
   ],
   "source": [
    "# Path where the modified YAML file will be saved\n",
    "new_yaml_path = '/kaggle/working/modified_data.yaml'\n",
    "\n",
    "# Save the updated YAML file\n",
    "with open(new_yaml_path, 'w') as file:\n",
    "    yaml.dump(config, file)\n",
    "\n",
    "print(f\"Modified YAML file saved to {new_yaml_path}\")\n"
   ]
  },
  {
   "cell_type": "code",
   "execution_count": 6,
   "metadata": {
    "execution": {
     "iopub.execute_input": "2024-10-20T01:53:14.873937Z",
     "iopub.status.busy": "2024-10-20T01:53:14.873236Z",
     "iopub.status.idle": "2024-10-20T01:53:14.883154Z",
     "shell.execute_reply": "2024-10-20T01:53:14.882172Z",
     "shell.execute_reply.started": "2024-10-20T01:53:14.873903Z"
    },
    "trusted": true
   },
   "outputs": [
    {
     "name": "stdout",
     "output_type": "stream",
     "text": [
      "{'names': ['helmet', 'licenseplate', 'motorcyclist', 'nohelmet'], 'nc': 4, 'roboflow': {'license': 'CC BY 4.0', 'project': 'helmet-detection-and-license-plate-recognition-zfenu-ctzln', 'url': 'https://universe.roboflow.com/study-eivvg/helmet-detection-and-license-plate-recognition-zfenu-ctzln/dataset/2', 'version': 2, 'workspace': 'study-eivvg'}, 'test': '/kaggle/input/helmet-detection-v2/test', 'train': '/kaggle/input/helmet-detection-v2/train', 'val': '/kaggle/input/helmet-detection-v2/valid'}\n"
     ]
    }
   ],
   "source": [
    "with open(new_yaml_path, 'r') as file:\n",
    "    modified_config = yaml.safe_load(file)\n",
    "\n",
    "# Display the modified content\n",
    "print(modified_config)\n"
   ]
  },
  {
   "cell_type": "code",
   "execution_count": 7,
   "metadata": {
    "execution": {
     "iopub.execute_input": "2024-10-20T01:53:20.525074Z",
     "iopub.status.busy": "2024-10-20T01:53:20.524207Z",
     "iopub.status.idle": "2024-10-20T01:53:33.930839Z",
     "shell.execute_reply": "2024-10-20T01:53:33.929683Z",
     "shell.execute_reply.started": "2024-10-20T01:53:20.525040Z"
    },
    "trusted": true
   },
   "outputs": [
    {
     "name": "stdout",
     "output_type": "stream",
     "text": [
      "Collecting ultralytics\n",
      "  Downloading ultralytics-8.3.18-py3-none-any.whl.metadata (34 kB)\n",
      "Requirement already satisfied: numpy>=1.23.0 in /opt/conda/lib/python3.10/site-packages (from ultralytics) (1.26.4)\n",
      "Requirement already satisfied: matplotlib>=3.3.0 in /opt/conda/lib/python3.10/site-packages (from ultralytics) (3.7.5)\n",
      "Requirement already satisfied: opencv-python>=4.6.0 in /opt/conda/lib/python3.10/site-packages (from ultralytics) (4.10.0.84)\n",
      "Requirement already satisfied: pillow>=7.1.2 in /opt/conda/lib/python3.10/site-packages (from ultralytics) (9.5.0)\n",
      "Requirement already satisfied: pyyaml>=5.3.1 in /opt/conda/lib/python3.10/site-packages (from ultralytics) (6.0.1)\n",
      "Requirement already satisfied: requests>=2.23.0 in /opt/conda/lib/python3.10/site-packages (from ultralytics) (2.32.3)\n",
      "Requirement already satisfied: scipy>=1.4.1 in /opt/conda/lib/python3.10/site-packages (from ultralytics) (1.11.4)\n",
      "Requirement already satisfied: torch>=1.8.0 in /opt/conda/lib/python3.10/site-packages (from ultralytics) (2.1.2)\n",
      "Requirement already satisfied: torchvision>=0.9.0 in /opt/conda/lib/python3.10/site-packages (from ultralytics) (0.16.2)\n",
      "Requirement already satisfied: tqdm>=4.64.0 in /opt/conda/lib/python3.10/site-packages (from ultralytics) (4.66.4)\n",
      "Requirement already satisfied: psutil in /opt/conda/lib/python3.10/site-packages (from ultralytics) (5.9.3)\n",
      "Requirement already satisfied: py-cpuinfo in /opt/conda/lib/python3.10/site-packages (from ultralytics) (9.0.0)\n",
      "Requirement already satisfied: pandas>=1.1.4 in /opt/conda/lib/python3.10/site-packages (from ultralytics) (2.2.2)\n",
      "Requirement already satisfied: seaborn>=0.11.0 in /opt/conda/lib/python3.10/site-packages (from ultralytics) (0.12.2)\n",
      "Collecting ultralytics-thop>=2.0.0 (from ultralytics)\n",
      "  Downloading ultralytics_thop-2.0.9-py3-none-any.whl.metadata (9.3 kB)\n",
      "Requirement already satisfied: contourpy>=1.0.1 in /opt/conda/lib/python3.10/site-packages (from matplotlib>=3.3.0->ultralytics) (1.2.0)\n",
      "Requirement already satisfied: cycler>=0.10 in /opt/conda/lib/python3.10/site-packages (from matplotlib>=3.3.0->ultralytics) (0.12.1)\n",
      "Requirement already satisfied: fonttools>=4.22.0 in /opt/conda/lib/python3.10/site-packages (from matplotlib>=3.3.0->ultralytics) (4.47.0)\n",
      "Requirement already satisfied: kiwisolver>=1.0.1 in /opt/conda/lib/python3.10/site-packages (from matplotlib>=3.3.0->ultralytics) (1.4.5)\n",
      "Requirement already satisfied: packaging>=20.0 in /opt/conda/lib/python3.10/site-packages (from matplotlib>=3.3.0->ultralytics) (21.3)\n",
      "Requirement already satisfied: pyparsing>=2.3.1 in /opt/conda/lib/python3.10/site-packages (from matplotlib>=3.3.0->ultralytics) (3.1.1)\n",
      "Requirement already satisfied: python-dateutil>=2.7 in /opt/conda/lib/python3.10/site-packages (from matplotlib>=3.3.0->ultralytics) (2.9.0.post0)\n",
      "Requirement already satisfied: pytz>=2020.1 in /opt/conda/lib/python3.10/site-packages (from pandas>=1.1.4->ultralytics) (2023.3.post1)\n",
      "Requirement already satisfied: tzdata>=2022.7 in /opt/conda/lib/python3.10/site-packages (from pandas>=1.1.4->ultralytics) (2023.4)\n",
      "Requirement already satisfied: charset-normalizer<4,>=2 in /opt/conda/lib/python3.10/site-packages (from requests>=2.23.0->ultralytics) (3.3.2)\n",
      "Requirement already satisfied: idna<4,>=2.5 in /opt/conda/lib/python3.10/site-packages (from requests>=2.23.0->ultralytics) (3.6)\n",
      "Requirement already satisfied: urllib3<3,>=1.21.1 in /opt/conda/lib/python3.10/site-packages (from requests>=2.23.0->ultralytics) (1.26.18)\n",
      "Requirement already satisfied: certifi>=2017.4.17 in /opt/conda/lib/python3.10/site-packages (from requests>=2.23.0->ultralytics) (2024.7.4)\n",
      "Requirement already satisfied: filelock in /opt/conda/lib/python3.10/site-packages (from torch>=1.8.0->ultralytics) (3.13.1)\n",
      "Requirement already satisfied: typing-extensions in /opt/conda/lib/python3.10/site-packages (from torch>=1.8.0->ultralytics) (4.9.0)\n",
      "Requirement already satisfied: sympy in /opt/conda/lib/python3.10/site-packages (from torch>=1.8.0->ultralytics) (1.13.0)\n",
      "Requirement already satisfied: networkx in /opt/conda/lib/python3.10/site-packages (from torch>=1.8.0->ultralytics) (3.2.1)\n",
      "Requirement already satisfied: jinja2 in /opt/conda/lib/python3.10/site-packages (from torch>=1.8.0->ultralytics) (3.1.2)\n",
      "Requirement already satisfied: fsspec in /opt/conda/lib/python3.10/site-packages (from torch>=1.8.0->ultralytics) (2024.5.0)\n",
      "Requirement already satisfied: six>=1.5 in /opt/conda/lib/python3.10/site-packages (from python-dateutil>=2.7->matplotlib>=3.3.0->ultralytics) (1.16.0)\n",
      "Requirement already satisfied: MarkupSafe>=2.0 in /opt/conda/lib/python3.10/site-packages (from jinja2->torch>=1.8.0->ultralytics) (2.1.3)\n",
      "Requirement already satisfied: mpmath<1.4,>=1.1.0 in /opt/conda/lib/python3.10/site-packages (from sympy->torch>=1.8.0->ultralytics) (1.3.0)\n",
      "Downloading ultralytics-8.3.18-py3-none-any.whl (876 kB)\n",
      "\u001b[2K   \u001b[90m━━━━━━━━━━━━━━━━━━━━━━━━━━━━━━━━━━━━━━━━\u001b[0m \u001b[32m876.6/876.6 kB\u001b[0m \u001b[31m20.0 MB/s\u001b[0m eta \u001b[36m0:00:00\u001b[0m00:01\u001b[0m\n",
      "\u001b[?25hDownloading ultralytics_thop-2.0.9-py3-none-any.whl (26 kB)\n",
      "Installing collected packages: ultralytics-thop, ultralytics\n",
      "Successfully installed ultralytics-8.3.18 ultralytics-thop-2.0.9\n"
     ]
    }
   ],
   "source": [
    "!pip install ultralytics\n"
   ]
  },
  {
   "cell_type": "code",
   "execution_count": 1,
   "metadata": {
    "execution": {
     "iopub.execute_input": "2024-10-20T01:54:13.150233Z",
     "iopub.status.busy": "2024-10-20T01:54:13.149317Z"
    },
    "trusted": true
   },
   "outputs": [
    {
     "ename": "KeyboardInterrupt",
     "evalue": "",
     "output_type": "error",
     "traceback": [
      "\u001b[1;31m---------------------------------------------------------------------------\u001b[0m",
      "\u001b[1;31mKeyboardInterrupt\u001b[0m                         Traceback (most recent call last)",
      "File \u001b[1;32m<frozen importlib._bootstrap>:194\u001b[0m, in \u001b[0;36m_lock_unlock_module\u001b[1;34m(name)\u001b[0m\n",
      "\u001b[1;31mKeyboardInterrupt\u001b[0m: "
     ]
    },
    {
     "name": "stdout",
     "output_type": "stream",
     "text": [
      "OpenCV bindings requires \"numpy\" package.\n",
      "Install it via command:\n",
      "    pip install numpy\n"
     ]
    },
    {
     "ename": "ImportError",
     "evalue": "numpy.core.multiarray failed to import",
     "output_type": "error",
     "traceback": [
      "\u001b[1;31m---------------------------------------------------------------------------\u001b[0m",
      "\u001b[1;31mImportError\u001b[0m                               Traceback (most recent call last)",
      "Cell \u001b[1;32mIn[1], line 1\u001b[0m\n\u001b[1;32m----> 1\u001b[0m \u001b[38;5;28;01mfrom\u001b[39;00m \u001b[38;5;21;01multralytics\u001b[39;00m \u001b[38;5;28;01mimport\u001b[39;00m YOLO\n\u001b[0;32m      3\u001b[0m \u001b[38;5;66;03m# Load the YOLOv8n model (lightweight version)\u001b[39;00m\n\u001b[0;32m      4\u001b[0m model \u001b[38;5;241m=\u001b[39m YOLO(\u001b[38;5;124m'\u001b[39m\u001b[38;5;124myolov8m.pt\u001b[39m\u001b[38;5;124m'\u001b[39m)  \u001b[38;5;66;03m# Load YOLOv8n pre-trained weights\u001b[39;00m\n",
      "File \u001b[1;32mc:\\Users\\sangw\\anaconda3\\envs\\yolov8_env\\lib\\site-packages\\ultralytics\\__init__.py:10\u001b[0m\n\u001b[0;32m      7\u001b[0m \u001b[38;5;66;03m# Set ENV Variables (place before imports)\u001b[39;00m\n\u001b[0;32m      8\u001b[0m os\u001b[38;5;241m.\u001b[39menviron[\u001b[38;5;124m\"\u001b[39m\u001b[38;5;124mOMP_NUM_THREADS\u001b[39m\u001b[38;5;124m\"\u001b[39m] \u001b[38;5;241m=\u001b[39m \u001b[38;5;124m\"\u001b[39m\u001b[38;5;124m1\u001b[39m\u001b[38;5;124m\"\u001b[39m  \u001b[38;5;66;03m# reduce CPU utilization during training\u001b[39;00m\n\u001b[1;32m---> 10\u001b[0m \u001b[38;5;28;01mfrom\u001b[39;00m \u001b[38;5;21;01multralytics\u001b[39;00m\u001b[38;5;21;01m.\u001b[39;00m\u001b[38;5;21;01mdata\u001b[39;00m\u001b[38;5;21;01m.\u001b[39;00m\u001b[38;5;21;01mexplorer\u001b[39;00m\u001b[38;5;21;01m.\u001b[39;00m\u001b[38;5;21;01mexplorer\u001b[39;00m \u001b[38;5;28;01mimport\u001b[39;00m Explorer\n\u001b[0;32m     11\u001b[0m \u001b[38;5;28;01mfrom\u001b[39;00m \u001b[38;5;21;01multralytics\u001b[39;00m\u001b[38;5;21;01m.\u001b[39;00m\u001b[38;5;21;01mmodels\u001b[39;00m \u001b[38;5;28;01mimport\u001b[39;00m NAS, RTDETR, SAM, YOLO, FastSAM, YOLOWorld\n\u001b[0;32m     12\u001b[0m \u001b[38;5;28;01mfrom\u001b[39;00m \u001b[38;5;21;01multralytics\u001b[39;00m\u001b[38;5;21;01m.\u001b[39;00m\u001b[38;5;21;01mutils\u001b[39;00m \u001b[38;5;28;01mimport\u001b[39;00m ASSETS, SETTINGS\n",
      "File \u001b[1;32mc:\\Users\\sangw\\anaconda3\\envs\\yolov8_env\\lib\\site-packages\\ultralytics\\data\\__init__.py:3\u001b[0m\n\u001b[0;32m      1\u001b[0m \u001b[38;5;66;03m# Ultralytics YOLO 🚀, AGPL-3.0 license\u001b[39;00m\n\u001b[1;32m----> 3\u001b[0m \u001b[38;5;28;01mfrom\u001b[39;00m \u001b[38;5;21;01m.\u001b[39;00m\u001b[38;5;21;01mbase\u001b[39;00m \u001b[38;5;28;01mimport\u001b[39;00m BaseDataset\n\u001b[0;32m      4\u001b[0m \u001b[38;5;28;01mfrom\u001b[39;00m \u001b[38;5;21;01m.\u001b[39;00m\u001b[38;5;21;01mbuild\u001b[39;00m \u001b[38;5;28;01mimport\u001b[39;00m build_dataloader, build_grounding, build_yolo_dataset, load_inference_source\n\u001b[0;32m      5\u001b[0m \u001b[38;5;28;01mfrom\u001b[39;00m \u001b[38;5;21;01m.\u001b[39;00m\u001b[38;5;21;01mdataset\u001b[39;00m \u001b[38;5;28;01mimport\u001b[39;00m (\n\u001b[0;32m      6\u001b[0m     ClassificationDataset,\n\u001b[0;32m      7\u001b[0m     GroundingDataset,\n\u001b[1;32m   (...)\u001b[0m\n\u001b[0;32m     11\u001b[0m     YOLOMultiModalDataset,\n\u001b[0;32m     12\u001b[0m )\n",
      "File \u001b[1;32mc:\\Users\\sangw\\anaconda3\\envs\\yolov8_env\\lib\\site-packages\\ultralytics\\data\\base.py:12\u001b[0m\n\u001b[0;32m      9\u001b[0m \u001b[38;5;28;01mfrom\u001b[39;00m \u001b[38;5;21;01mpathlib\u001b[39;00m \u001b[38;5;28;01mimport\u001b[39;00m Path\n\u001b[0;32m     10\u001b[0m \u001b[38;5;28;01mfrom\u001b[39;00m \u001b[38;5;21;01mtyping\u001b[39;00m \u001b[38;5;28;01mimport\u001b[39;00m Optional\n\u001b[1;32m---> 12\u001b[0m \u001b[38;5;28;01mimport\u001b[39;00m \u001b[38;5;21;01mcv2\u001b[39;00m\n\u001b[0;32m     13\u001b[0m \u001b[38;5;28;01mimport\u001b[39;00m \u001b[38;5;21;01mnumpy\u001b[39;00m \u001b[38;5;28;01mas\u001b[39;00m \u001b[38;5;21;01mnp\u001b[39;00m\n\u001b[0;32m     14\u001b[0m \u001b[38;5;28;01mimport\u001b[39;00m \u001b[38;5;21;01mpsutil\u001b[39;00m\n",
      "File \u001b[1;32mc:\\Users\\sangw\\anaconda3\\envs\\yolov8_env\\lib\\site-packages\\cv2\\__init__.py:11\u001b[0m\n\u001b[0;32m      8\u001b[0m __all__ \u001b[38;5;241m=\u001b[39m []\n\u001b[0;32m     10\u001b[0m \u001b[38;5;28;01mtry\u001b[39;00m:\n\u001b[1;32m---> 11\u001b[0m     \u001b[38;5;28;01mimport\u001b[39;00m \u001b[38;5;21;01mnumpy\u001b[39;00m\n\u001b[0;32m     12\u001b[0m     \u001b[38;5;28;01mimport\u001b[39;00m \u001b[38;5;21;01mnumpy\u001b[39;00m\u001b[38;5;21;01m.\u001b[39;00m\u001b[38;5;21;01mcore\u001b[39;00m\u001b[38;5;21;01m.\u001b[39;00m\u001b[38;5;21;01mmultiarray\u001b[39;00m\n\u001b[0;32m     13\u001b[0m \u001b[38;5;28;01mexcept\u001b[39;00m \u001b[38;5;167;01mImportError\u001b[39;00m:\n",
      "File \u001b[1;32mc:\\Users\\sangw\\anaconda3\\envs\\yolov8_env\\lib\\site-packages\\numpy\\__init__.py:141\u001b[0m\n\u001b[0;32m    138\u001b[0m \u001b[38;5;66;03m# Allow distributors to run custom init code\u001b[39;00m\n\u001b[0;32m    139\u001b[0m \u001b[38;5;28;01mfrom\u001b[39;00m \u001b[38;5;21;01m.\u001b[39;00m \u001b[38;5;28;01mimport\u001b[39;00m _distributor_init\n\u001b[1;32m--> 141\u001b[0m \u001b[38;5;28;01mfrom\u001b[39;00m \u001b[38;5;21;01m.\u001b[39;00m \u001b[38;5;28;01mimport\u001b[39;00m core\n\u001b[0;32m    142\u001b[0m \u001b[38;5;28;01mfrom\u001b[39;00m \u001b[38;5;21;01m.\u001b[39;00m\u001b[38;5;21;01mcore\u001b[39;00m \u001b[38;5;28;01mimport\u001b[39;00m \u001b[38;5;241m*\u001b[39m\n\u001b[0;32m    143\u001b[0m \u001b[38;5;28;01mfrom\u001b[39;00m \u001b[38;5;21;01m.\u001b[39;00m \u001b[38;5;28;01mimport\u001b[39;00m compat\n",
      "File \u001b[1;32mc:\\Users\\sangw\\anaconda3\\envs\\yolov8_env\\lib\\site-packages\\numpy\\core\\__init__.py:101\u001b[0m\n\u001b[0;32m     97\u001b[0m \u001b[38;5;28;01mfrom\u001b[39;00m \u001b[38;5;21;01m.\u001b[39;00m\u001b[38;5;21;01mnumeric\u001b[39;00m \u001b[38;5;28;01mimport\u001b[39;00m absolute \u001b[38;5;28;01mas\u001b[39;00m \u001b[38;5;28mabs\u001b[39m\n\u001b[0;32m     99\u001b[0m \u001b[38;5;66;03m# do this after everything else, to minimize the chance of this misleadingly\u001b[39;00m\n\u001b[0;32m    100\u001b[0m \u001b[38;5;66;03m# appearing in an import-time traceback\u001b[39;00m\n\u001b[1;32m--> 101\u001b[0m \u001b[38;5;28;01mfrom\u001b[39;00m \u001b[38;5;21;01m.\u001b[39;00m \u001b[38;5;28;01mimport\u001b[39;00m _add_newdocs\n\u001b[0;32m    102\u001b[0m \u001b[38;5;28;01mfrom\u001b[39;00m \u001b[38;5;21;01m.\u001b[39;00m \u001b[38;5;28;01mimport\u001b[39;00m _add_newdocs_scalars\n\u001b[0;32m    103\u001b[0m \u001b[38;5;66;03m# add these for module-freeze analysis (like PyInstaller)\u001b[39;00m\n",
      "File \u001b[1;32mc:\\Users\\sangw\\anaconda3\\envs\\yolov8_env\\lib\\site-packages\\numpy\\core\\_add_newdocs.py:4970\u001b[0m\n\u001b[0;32m   4952\u001b[0m add_newdoc(\u001b[38;5;124m'\u001b[39m\u001b[38;5;124mnumpy.core.multiarray\u001b[39m\u001b[38;5;124m'\u001b[39m, \u001b[38;5;124m'\u001b[39m\u001b[38;5;124m_get_madvise_hugepage\u001b[39m\u001b[38;5;124m'\u001b[39m,\n\u001b[0;32m   4953\u001b[0m \u001b[38;5;250m    \u001b[39m\u001b[38;5;124;03m\"\"\"\u001b[39;00m\n\u001b[0;32m   4954\u001b[0m \u001b[38;5;124;03m    _get_madvise_hugepage() -> bool\u001b[39;00m\n\u001b[1;32m   (...)\u001b[0m\n\u001b[0;32m   4958\u001b[0m \u001b[38;5;124;03m    See `global_state` for more information.\u001b[39;00m\n\u001b[0;32m   4959\u001b[0m \u001b[38;5;124;03m    \"\"\"\u001b[39;00m)\n\u001b[0;32m   4961\u001b[0m add_newdoc(\u001b[38;5;124m'\u001b[39m\u001b[38;5;124mnumpy.core.multiarray\u001b[39m\u001b[38;5;124m'\u001b[39m, \u001b[38;5;124m'\u001b[39m\u001b[38;5;124m_set_madvise_hugepage\u001b[39m\u001b[38;5;124m'\u001b[39m,\n\u001b[0;32m   4962\u001b[0m \u001b[38;5;250m    \u001b[39m\u001b[38;5;124;03m\"\"\"\u001b[39;00m\n\u001b[0;32m   4963\u001b[0m \u001b[38;5;124;03m    _set_madvise_hugepage(enabled: bool) -> bool\u001b[39;00m\n\u001b[1;32m   (...)\u001b[0m\n\u001b[0;32m   4967\u001b[0m \u001b[38;5;124;03m    See `global_state` for more information.\u001b[39;00m\n\u001b[0;32m   4968\u001b[0m \u001b[38;5;124;03m    \"\"\"\u001b[39;00m)\n\u001b[1;32m-> 4970\u001b[0m \u001b[43madd_newdoc\u001b[49m\u001b[43m(\u001b[49m\u001b[38;5;124;43m'\u001b[39;49m\u001b[38;5;124;43mnumpy.core._multiarray_tests\u001b[39;49m\u001b[38;5;124;43m'\u001b[39;49m\u001b[43m,\u001b[49m\u001b[43m \u001b[49m\u001b[38;5;124;43m'\u001b[39;49m\u001b[38;5;124;43mformat_float_OSprintf_g\u001b[39;49m\u001b[38;5;124;43m'\u001b[39;49m\u001b[43m,\u001b[49m\n\u001b[0;32m   4971\u001b[0m \u001b[38;5;250;43m    \u001b[39;49m\u001b[38;5;124;43;03m\"\"\"\u001b[39;49;00m\n\u001b[0;32m   4972\u001b[0m \u001b[38;5;124;43;03m    format_float_OSprintf_g(val, precision)\u001b[39;49;00m\n\u001b[0;32m   4973\u001b[0m \n\u001b[0;32m   4974\u001b[0m \u001b[38;5;124;43;03m    Print a floating point scalar using the system's printf function,\u001b[39;49;00m\n\u001b[0;32m   4975\u001b[0m \u001b[38;5;124;43;03m    equivalent to:\u001b[39;49;00m\n\u001b[0;32m   4976\u001b[0m \n\u001b[0;32m   4977\u001b[0m \u001b[38;5;124;43;03m        printf(\"%.*g\", precision, val);\u001b[39;49;00m\n\u001b[0;32m   4978\u001b[0m \n\u001b[0;32m   4979\u001b[0m \u001b[38;5;124;43;03m    for half/float/double, or replacing 'g' by 'Lg' for longdouble. This\u001b[39;49;00m\n\u001b[0;32m   4980\u001b[0m \u001b[38;5;124;43;03m    method is designed to help cross-validate the format_float_* methods.\u001b[39;49;00m\n\u001b[0;32m   4981\u001b[0m \n\u001b[0;32m   4982\u001b[0m \u001b[38;5;124;43;03m    Parameters\u001b[39;49;00m\n\u001b[0;32m   4983\u001b[0m \u001b[38;5;124;43;03m    ----------\u001b[39;49;00m\n\u001b[0;32m   4984\u001b[0m \u001b[38;5;124;43;03m    val : python float or numpy floating scalar\u001b[39;49;00m\n\u001b[0;32m   4985\u001b[0m \u001b[38;5;124;43;03m        Value to format.\u001b[39;49;00m\n\u001b[0;32m   4986\u001b[0m \n\u001b[0;32m   4987\u001b[0m \u001b[38;5;124;43;03m    precision : non-negative integer, optional\u001b[39;49;00m\n\u001b[0;32m   4988\u001b[0m \u001b[38;5;124;43;03m        Precision given to printf.\u001b[39;49;00m\n\u001b[0;32m   4989\u001b[0m \n\u001b[0;32m   4990\u001b[0m \u001b[38;5;124;43;03m    Returns\u001b[39;49;00m\n\u001b[0;32m   4991\u001b[0m \u001b[38;5;124;43;03m    -------\u001b[39;49;00m\n\u001b[0;32m   4992\u001b[0m \u001b[38;5;124;43;03m    rep : string\u001b[39;49;00m\n\u001b[0;32m   4993\u001b[0m \u001b[38;5;124;43;03m        The string representation of the floating point value\u001b[39;49;00m\n\u001b[0;32m   4994\u001b[0m \n\u001b[0;32m   4995\u001b[0m \u001b[38;5;124;43;03m    See Also\u001b[39;49;00m\n\u001b[0;32m   4996\u001b[0m \u001b[38;5;124;43;03m    --------\u001b[39;49;00m\n\u001b[0;32m   4997\u001b[0m \u001b[38;5;124;43;03m    format_float_scientific\u001b[39;49;00m\n\u001b[0;32m   4998\u001b[0m \u001b[38;5;124;43;03m    format_float_positional\u001b[39;49;00m\n\u001b[0;32m   4999\u001b[0m \u001b[38;5;124;43;03m    \"\"\"\u001b[39;49;00m\u001b[43m)\u001b[49m\n\u001b[0;32m   5002\u001b[0m \u001b[38;5;66;03m##############################################################################\u001b[39;00m\n\u001b[0;32m   5003\u001b[0m \u001b[38;5;66;03m#\u001b[39;00m\n\u001b[0;32m   5004\u001b[0m \u001b[38;5;66;03m# Documentation for ufunc attributes and methods\u001b[39;00m\n\u001b[1;32m   (...)\u001b[0m\n\u001b[0;32m   5012\u001b[0m \u001b[38;5;66;03m#\u001b[39;00m\n\u001b[0;32m   5013\u001b[0m \u001b[38;5;66;03m##############################################################################\u001b[39;00m\n\u001b[0;32m   5015\u001b[0m add_newdoc(\u001b[38;5;124m'\u001b[39m\u001b[38;5;124mnumpy.core\u001b[39m\u001b[38;5;124m'\u001b[39m, \u001b[38;5;124m'\u001b[39m\u001b[38;5;124mufunc\u001b[39m\u001b[38;5;124m'\u001b[39m,\n\u001b[0;32m   5016\u001b[0m \u001b[38;5;250m    \u001b[39m\u001b[38;5;124;03m\"\"\"\u001b[39;00m\n\u001b[0;32m   5017\u001b[0m \u001b[38;5;124;03m    Functions that operate element by element on whole arrays.\u001b[39;00m\n\u001b[1;32m   (...)\u001b[0m\n\u001b[0;32m   5063\u001b[0m \n\u001b[0;32m   5064\u001b[0m \u001b[38;5;124;03m    \"\"\"\u001b[39;00m)\n",
      "File \u001b[1;32mc:\\Users\\sangw\\anaconda3\\envs\\yolov8_env\\lib\\site-packages\\numpy\\core\\function_base.py:529\u001b[0m, in \u001b[0;36madd_newdoc\u001b[1;34m(place, obj, doc, warn_on_python)\u001b[0m\n\u001b[0;32m    483\u001b[0m \u001b[38;5;28;01mdef\u001b[39;00m \u001b[38;5;21madd_newdoc\u001b[39m(place, obj, doc, warn_on_python\u001b[38;5;241m=\u001b[39m\u001b[38;5;28;01mTrue\u001b[39;00m):\n\u001b[0;32m    484\u001b[0m \u001b[38;5;250m    \u001b[39m\u001b[38;5;124;03m\"\"\"\u001b[39;00m\n\u001b[0;32m    485\u001b[0m \u001b[38;5;124;03m    Add documentation to an existing object, typically one defined in C\u001b[39;00m\n\u001b[0;32m    486\u001b[0m \n\u001b[1;32m   (...)\u001b[0m\n\u001b[0;32m    527\u001b[0m \u001b[38;5;124;03m    If possible it should be avoided.\u001b[39;00m\n\u001b[0;32m    528\u001b[0m \u001b[38;5;124;03m    \"\"\"\u001b[39;00m\n\u001b[1;32m--> 529\u001b[0m     new \u001b[38;5;241m=\u001b[39m \u001b[38;5;28mgetattr\u001b[39m(\u001b[38;5;28;43m__import__\u001b[39;49m\u001b[43m(\u001b[49m\u001b[43mplace\u001b[49m\u001b[43m,\u001b[49m\u001b[43m \u001b[49m\u001b[38;5;28;43mglobals\u001b[39;49m\u001b[43m(\u001b[49m\u001b[43m)\u001b[49m\u001b[43m,\u001b[49m\u001b[43m \u001b[49m\u001b[43m{\u001b[49m\u001b[43m}\u001b[49m\u001b[43m,\u001b[49m\u001b[43m \u001b[49m\u001b[43m[\u001b[49m\u001b[43mobj\u001b[49m\u001b[43m]\u001b[49m\u001b[43m)\u001b[49m, obj)\n\u001b[0;32m    530\u001b[0m     \u001b[38;5;28;01mif\u001b[39;00m \u001b[38;5;28misinstance\u001b[39m(doc, \u001b[38;5;28mstr\u001b[39m):\n\u001b[0;32m    531\u001b[0m         _add_docstring(new, doc\u001b[38;5;241m.\u001b[39mstrip(), warn_on_python)\n",
      "\u001b[1;31mImportError\u001b[0m: numpy.core.multiarray failed to import"
     ]
    }
   ],
   "source": [
    "from ultralytics import YOLO\n",
    "\n",
    "# Load the YOLOv8n model (lightweight version)\n",
    "model = YOLO('yolov8m.pt')  # Load YOLOv8n pre-trained weights\n",
    "\n",
    "# Train the model using the modified YAML configuration\n",
    "model.train(data='/kaggle/working/modified_data.yaml', epochs=100, imgsz=640)\n"
   ]
  },
  {
   "cell_type": "code",
   "execution_count": null,
   "metadata": {},
   "outputs": [],
   "source": []
  }
 ],
 "metadata": {
  "kaggle": {
   "accelerator": "gpu",
   "dataSources": [
    {
     "datasetId": 5909867,
     "sourceId": 9671010,
     "sourceType": "datasetVersion"
    }
   ],
   "dockerImageVersionId": 30746,
   "isGpuEnabled": true,
   "isInternetEnabled": true,
   "language": "python",
   "sourceType": "notebook"
  },
  "kernelspec": {
   "display_name": "yolov8_env",
   "language": "python",
   "name": "python3"
  },
  "language_info": {
   "codemirror_mode": {
    "name": "ipython",
    "version": 3
   },
   "file_extension": ".py",
   "mimetype": "text/x-python",
   "name": "python",
   "nbconvert_exporter": "python",
   "pygments_lexer": "ipython3",
   "version": "3.8.15"
  }
 },
 "nbformat": 4,
 "nbformat_minor": 4
}
